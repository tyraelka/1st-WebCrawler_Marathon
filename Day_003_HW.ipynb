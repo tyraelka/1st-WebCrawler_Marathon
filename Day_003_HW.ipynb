{
 "cells": [
  {
   "cell_type": "markdown",
   "metadata": {},
   "source": [
    "# Python 下載XML檔案與解析\n",
    "\n",
    "\n",
    "* 了解 xml 檔案格式與內容\n",
    "* 能夠利用套件存取 xml 格式的檔案\n"
   ]
  },
  {
   "cell_type": "markdown",
   "metadata": {},
   "source": [
    "## 作業目標\n",
    "\n",
    "* 比較一下範例檔案中的「File I/O」與「xmltodict」讀出來的內容有什麼差異\n",
    "\n",
    "* 根據範例檔案的結果：\n",
    "    1. 請問高雄市有多少地區有溫度資料？\n",
    "    2. 請取出每一個地區所記錄的第一個時間點跟溫度\n",
    "    3. 請取出第一個地區所記錄的每一個時間點跟溫度"
   ]
  },
  {
   "cell_type": "markdown",
   "metadata": {},
   "source": [
    "### 比較一下範例檔案中的「File I/O」與「xmltodict」讀出來的內容有什麼差異\n"
   ]
  },
  {
   "cell_type": "markdown",
   "metadata": {},
   "source": [
    "'''\n",
    "Your Code\n",
    "'''\n",
    "File I/O 得純文字敘述\n",
    "xmltodict 得字典形式"
   ]
  },
  {
   "cell_type": "markdown",
   "metadata": {},
   "source": [
    "### 根據範例檔案的結果：\n",
    "\n",
    "1. 請問高雄市有多少地區有溫度資料？\n",
    "2. 請取出每一個地區所記錄的第一個時間點跟溫度\n",
    "3. 請取出第一個地區所記錄的每一個時間點跟溫度"
   ]
  },
  {
   "cell_type": "code",
   "execution_count": 1,
   "metadata": {},
   "outputs": [],
   "source": [
    "import xmltodict\n",
    "\n",
    "with open(\"./data/64_72hr_CH.xml\", \"r\", encoding = \"utf-8\") as fd:\n",
    "    xml = fd.read()\n",
    "\n",
    "d = dict(xmltodict.parse(xml))"
   ]
  },
  {
   "cell_type": "code",
   "execution_count": 2,
   "metadata": {},
   "outputs": [
    {
     "data": {
      "text/plain": [
       "['鹽埕區',\n",
       " '鼓山區',\n",
       " '左營區',\n",
       " '楠梓區',\n",
       " '三民區',\n",
       " '新興區',\n",
       " '前金區',\n",
       " '苓雅區',\n",
       " '前鎮區',\n",
       " '旗津區',\n",
       " '小港區',\n",
       " '鳳山區',\n",
       " '林園區',\n",
       " '大寮區',\n",
       " '大樹區',\n",
       " '大社區',\n",
       " '仁武區',\n",
       " '鳥松區',\n",
       " '岡山區',\n",
       " '橋頭區',\n",
       " '燕巢區',\n",
       " '田寮區',\n",
       " '阿蓮區',\n",
       " '路竹區',\n",
       " '湖內區',\n",
       " '茄萣區',\n",
       " '永安區',\n",
       " '彌陀區',\n",
       " '梓官區',\n",
       " '旗山區',\n",
       " '美濃區',\n",
       " '六龜區',\n",
       " '甲仙區',\n",
       " '杉林區',\n",
       " '內門區',\n",
       " '茂林區',\n",
       " '桃源區',\n",
       " '那瑪夏區']"
      ]
     },
     "execution_count": 2,
     "metadata": {},
     "output_type": "execute_result"
    }
   ],
   "source": [
    "locations = d[\"cwbopendata\"][\"dataset\"][\"locations\"][\"location\"]\n",
    "area = []\n",
    "for lc in locations:\n",
    "    area.append(lc[\"locationName\"])\n",
    "area"
   ]
  },
  {
   "cell_type": "code",
   "execution_count": 3,
   "metadata": {},
   "outputs": [
    {
     "data": {
      "text/plain": [
       "38"
      ]
     },
     "execution_count": 3,
     "metadata": {},
     "output_type": "execute_result"
    }
   ],
   "source": [
    "# 1. 請問高雄市有多少地區有溫度資料？\n",
    "\n",
    "'''\n",
    "Your Code\n",
    "'''\n",
    "len(area)\n"
   ]
  },
  {
   "cell_type": "code",
   "execution_count": 32,
   "metadata": {},
   "outputs": [],
   "source": [
    "locations = d[\"cwbopendata\"][\"dataset\"][\"locations\"][\"location\"]\n",
    "times = []\n",
    "temps = []\n",
    "\n",
    "for i in range(len(area)):\n",
    "    time = locations[i][\"weatherElement\"][0][\"time\"][0][\"dataTime\"]\n",
    "    temp = locations[i][\"weatherElement\"][0][\"time\"][0][\"elementValue\"][\"value\"]\n",
    "    times.append(time)\n",
    "    temps.append(temp)"
   ]
  },
  {
   "cell_type": "code",
   "execution_count": 34,
   "metadata": {},
   "outputs": [
    {
     "name": "stdout",
     "output_type": "stream",
     "text": [
      "鹽埕區-2021-01-13T18:00:00+08:00-18℃\n",
      "鼓山區-2021-01-13T18:00:00+08:00-18℃\n",
      "左營區-2021-01-13T18:00:00+08:00-18℃\n",
      "楠梓區-2021-01-13T18:00:00+08:00-18℃\n",
      "三民區-2021-01-13T18:00:00+08:00-18℃\n",
      "新興區-2021-01-13T18:00:00+08:00-19℃\n",
      "前金區-2021-01-13T18:00:00+08:00-18℃\n",
      "苓雅區-2021-01-13T18:00:00+08:00-19℃\n",
      "前鎮區-2021-01-13T18:00:00+08:00-19℃\n",
      "旗津區-2021-01-13T18:00:00+08:00-18℃\n",
      "小港區-2021-01-13T18:00:00+08:00-19℃\n",
      "鳳山區-2021-01-13T18:00:00+08:00-19℃\n",
      "林園區-2021-01-13T18:00:00+08:00-19℃\n",
      "大寮區-2021-01-13T18:00:00+08:00-19℃\n",
      "大樹區-2021-01-13T18:00:00+08:00-19℃\n",
      "大社區-2021-01-13T18:00:00+08:00-18℃\n",
      "仁武區-2021-01-13T18:00:00+08:00-18℃\n",
      "鳥松區-2021-01-13T18:00:00+08:00-19℃\n",
      "岡山區-2021-01-13T18:00:00+08:00-18℃\n",
      "橋頭區-2021-01-13T18:00:00+08:00-18℃\n",
      "燕巢區-2021-01-13T18:00:00+08:00-17℃\n",
      "田寮區-2021-01-13T18:00:00+08:00-16℃\n",
      "阿蓮區-2021-01-13T18:00:00+08:00-16℃\n",
      "路竹區-2021-01-13T18:00:00+08:00-17℃\n",
      "湖內區-2021-01-13T18:00:00+08:00-16℃\n",
      "茄萣區-2021-01-13T18:00:00+08:00-16℃\n",
      "永安區-2021-01-13T18:00:00+08:00-17℃\n",
      "彌陀區-2021-01-13T18:00:00+08:00-17℃\n",
      "梓官區-2021-01-13T18:00:00+08:00-17℃\n",
      "旗山區-2021-01-13T18:00:00+08:00-17℃\n",
      "美濃區-2021-01-13T18:00:00+08:00-18℃\n",
      "六龜區-2021-01-13T18:00:00+08:00-15℃\n",
      "甲仙區-2021-01-13T18:00:00+08:00-13℃\n",
      "杉林區-2021-01-13T18:00:00+08:00-17℃\n",
      "內門區-2021-01-13T18:00:00+08:00-16℃\n",
      "茂林區-2021-01-13T18:00:00+08:00-14℃\n",
      "桃源區-2021-01-13T18:00:00+08:00-13℃\n",
      "那瑪夏區-2021-01-13T18:00:00+08:00-11℃\n"
     ]
    }
   ],
   "source": [
    "# 2. 請取出每一個地區所記錄的第一個時間點跟溫度\n",
    "\n",
    "'''\n",
    "Your Code\n",
    "'''\n",
    "for i in range(len(area)):\n",
    "    print(\"%s-%s-%s℃\" %(str(area[i]), str(times[i]), str(temps[i])))"
   ]
  },
  {
   "cell_type": "code",
   "execution_count": 38,
   "metadata": {
    "scrolled": true
   },
   "outputs": [
    {
     "data": {
      "text/plain": [
       "[OrderedDict([('dataTime', '2021-01-13T18:00:00+08:00'),\n",
       "              ('elementValue',\n",
       "               OrderedDict([('value', '18'), ('measures', '攝氏度')]))]),\n",
       " OrderedDict([('dataTime', '2021-01-13T21:00:00+08:00'),\n",
       "              ('elementValue',\n",
       "               OrderedDict([('value', '16'), ('measures', '攝氏度')]))]),\n",
       " OrderedDict([('dataTime', '2021-01-14T00:00:00+08:00'),\n",
       "              ('elementValue',\n",
       "               OrderedDict([('value', '14'), ('measures', '攝氏度')]))]),\n",
       " OrderedDict([('dataTime', '2021-01-14T03:00:00+08:00'),\n",
       "              ('elementValue',\n",
       "               OrderedDict([('value', '13'), ('measures', '攝氏度')]))]),\n",
       " OrderedDict([('dataTime', '2021-01-14T06:00:00+08:00'),\n",
       "              ('elementValue',\n",
       "               OrderedDict([('value', '12'), ('measures', '攝氏度')]))]),\n",
       " OrderedDict([('dataTime', '2021-01-14T09:00:00+08:00'),\n",
       "              ('elementValue',\n",
       "               OrderedDict([('value', '14'), ('measures', '攝氏度')]))]),\n",
       " OrderedDict([('dataTime', '2021-01-14T12:00:00+08:00'),\n",
       "              ('elementValue',\n",
       "               OrderedDict([('value', '20'), ('measures', '攝氏度')]))]),\n",
       " OrderedDict([('dataTime', '2021-01-14T15:00:00+08:00'),\n",
       "              ('elementValue',\n",
       "               OrderedDict([('value', '21'), ('measures', '攝氏度')]))]),\n",
       " OrderedDict([('dataTime', '2021-01-14T18:00:00+08:00'),\n",
       "              ('elementValue',\n",
       "               OrderedDict([('value', '19'), ('measures', '攝氏度')]))]),\n",
       " OrderedDict([('dataTime', '2021-01-14T21:00:00+08:00'),\n",
       "              ('elementValue',\n",
       "               OrderedDict([('value', '17'), ('measures', '攝氏度')]))]),\n",
       " OrderedDict([('dataTime', '2021-01-15T00:00:00+08:00'),\n",
       "              ('elementValue',\n",
       "               OrderedDict([('value', '16'), ('measures', '攝氏度')]))]),\n",
       " OrderedDict([('dataTime', '2021-01-15T03:00:00+08:00'),\n",
       "              ('elementValue',\n",
       "               OrderedDict([('value', '15'), ('measures', '攝氏度')]))]),\n",
       " OrderedDict([('dataTime', '2021-01-15T06:00:00+08:00'),\n",
       "              ('elementValue',\n",
       "               OrderedDict([('value', '14'), ('measures', '攝氏度')]))]),\n",
       " OrderedDict([('dataTime', '2021-01-15T09:00:00+08:00'),\n",
       "              ('elementValue',\n",
       "               OrderedDict([('value', '16'), ('measures', '攝氏度')]))]),\n",
       " OrderedDict([('dataTime', '2021-01-15T12:00:00+08:00'),\n",
       "              ('elementValue',\n",
       "               OrderedDict([('value', '21'), ('measures', '攝氏度')]))]),\n",
       " OrderedDict([('dataTime', '2021-01-15T15:00:00+08:00'),\n",
       "              ('elementValue',\n",
       "               OrderedDict([('value', '22'), ('measures', '攝氏度')]))]),\n",
       " OrderedDict([('dataTime', '2021-01-15T18:00:00+08:00'),\n",
       "              ('elementValue',\n",
       "               OrderedDict([('value', '20'), ('measures', '攝氏度')]))]),\n",
       " OrderedDict([('dataTime', '2021-01-15T21:00:00+08:00'),\n",
       "              ('elementValue',\n",
       "               OrderedDict([('value', '18'), ('measures', '攝氏度')]))]),\n",
       " OrderedDict([('dataTime', '2021-01-16T00:00:00+08:00'),\n",
       "              ('elementValue',\n",
       "               OrderedDict([('value', '16'), ('measures', '攝氏度')]))]),\n",
       " OrderedDict([('dataTime', '2021-01-16T03:00:00+08:00'),\n",
       "              ('elementValue',\n",
       "               OrderedDict([('value', '15'), ('measures', '攝氏度')]))]),\n",
       " OrderedDict([('dataTime', '2021-01-16T06:00:00+08:00'),\n",
       "              ('elementValue',\n",
       "               OrderedDict([('value', '15'), ('measures', '攝氏度')]))]),\n",
       " OrderedDict([('dataTime', '2021-01-16T09:00:00+08:00'),\n",
       "              ('elementValue',\n",
       "               OrderedDict([('value', '16'), ('measures', '攝氏度')]))]),\n",
       " OrderedDict([('dataTime', '2021-01-16T12:00:00+08:00'),\n",
       "              ('elementValue',\n",
       "               OrderedDict([('value', '20'), ('measures', '攝氏度')]))]),\n",
       " OrderedDict([('dataTime', '2021-01-16T15:00:00+08:00'),\n",
       "              ('elementValue',\n",
       "               OrderedDict([('value', '21'), ('measures', '攝氏度')]))])]"
      ]
     },
     "execution_count": 38,
     "metadata": {},
     "output_type": "execute_result"
    }
   ],
   "source": [
    "locations[0][\"weatherElement\"][0][\"time\"]"
   ]
  },
  {
   "cell_type": "code",
   "execution_count": 40,
   "metadata": {},
   "outputs": [
    {
     "data": {
      "text/plain": [
       "['2021-01-13T18:00:00+08:00',\n",
       " '2021-01-13T21:00:00+08:00',\n",
       " '2021-01-14T00:00:00+08:00',\n",
       " '2021-01-14T03:00:00+08:00',\n",
       " '2021-01-14T06:00:00+08:00',\n",
       " '2021-01-14T09:00:00+08:00',\n",
       " '2021-01-14T12:00:00+08:00',\n",
       " '2021-01-14T15:00:00+08:00',\n",
       " '2021-01-14T18:00:00+08:00',\n",
       " '2021-01-14T21:00:00+08:00',\n",
       " '2021-01-15T00:00:00+08:00',\n",
       " '2021-01-15T03:00:00+08:00',\n",
       " '2021-01-15T06:00:00+08:00',\n",
       " '2021-01-15T09:00:00+08:00',\n",
       " '2021-01-15T12:00:00+08:00',\n",
       " '2021-01-15T15:00:00+08:00',\n",
       " '2021-01-15T18:00:00+08:00',\n",
       " '2021-01-15T21:00:00+08:00',\n",
       " '2021-01-16T00:00:00+08:00',\n",
       " '2021-01-16T03:00:00+08:00',\n",
       " '2021-01-16T06:00:00+08:00',\n",
       " '2021-01-16T09:00:00+08:00',\n",
       " '2021-01-16T12:00:00+08:00',\n",
       " '2021-01-16T15:00:00+08:00']"
      ]
     },
     "execution_count": 40,
     "metadata": {},
     "output_type": "execute_result"
    }
   ],
   "source": [
    "Datatimes = locations[0][\"weatherElement\"][0][\"time\"]\n",
    "DataTime = []\n",
    "for time in Datatimes:\n",
    "    DataTime.append(time[\"dataTime\"])\n",
    "DataTime"
   ]
  },
  {
   "cell_type": "code",
   "execution_count": 41,
   "metadata": {},
   "outputs": [
    {
     "data": {
      "text/plain": [
       "['18',\n",
       " '16',\n",
       " '14',\n",
       " '13',\n",
       " '12',\n",
       " '14',\n",
       " '20',\n",
       " '21',\n",
       " '19',\n",
       " '17',\n",
       " '16',\n",
       " '15',\n",
       " '14',\n",
       " '16',\n",
       " '21',\n",
       " '22',\n",
       " '20',\n",
       " '18',\n",
       " '16',\n",
       " '15',\n",
       " '15',\n",
       " '16',\n",
       " '20',\n",
       " '21']"
      ]
     },
     "execution_count": 41,
     "metadata": {},
     "output_type": "execute_result"
    }
   ],
   "source": [
    "Temps = []\n",
    "for time in Datatimes:\n",
    "    Temps.append(time[\"elementValue\"][\"value\"])\n",
    "Temps"
   ]
  },
  {
   "cell_type": "code",
   "execution_count": 47,
   "metadata": {},
   "outputs": [
    {
     "name": "stdout",
     "output_type": "stream",
     "text": [
      "高雄市鹽埕區2021-01-13T18:00:00+08:00-18℃\n",
      "高雄市鹽埕區2021-01-13T21:00:00+08:00-16℃\n",
      "高雄市鹽埕區2021-01-14T00:00:00+08:00-14℃\n",
      "高雄市鹽埕區2021-01-14T03:00:00+08:00-13℃\n",
      "高雄市鹽埕區2021-01-14T06:00:00+08:00-12℃\n",
      "高雄市鹽埕區2021-01-14T09:00:00+08:00-14℃\n",
      "高雄市鹽埕區2021-01-14T12:00:00+08:00-20℃\n",
      "高雄市鹽埕區2021-01-14T15:00:00+08:00-21℃\n",
      "高雄市鹽埕區2021-01-14T18:00:00+08:00-19℃\n",
      "高雄市鹽埕區2021-01-14T21:00:00+08:00-17℃\n",
      "高雄市鹽埕區2021-01-15T00:00:00+08:00-16℃\n",
      "高雄市鹽埕區2021-01-15T03:00:00+08:00-15℃\n",
      "高雄市鹽埕區2021-01-15T06:00:00+08:00-14℃\n",
      "高雄市鹽埕區2021-01-15T09:00:00+08:00-16℃\n",
      "高雄市鹽埕區2021-01-15T12:00:00+08:00-21℃\n",
      "高雄市鹽埕區2021-01-15T15:00:00+08:00-22℃\n",
      "高雄市鹽埕區2021-01-15T18:00:00+08:00-20℃\n",
      "高雄市鹽埕區2021-01-15T21:00:00+08:00-18℃\n",
      "高雄市鹽埕區2021-01-16T00:00:00+08:00-16℃\n",
      "高雄市鹽埕區2021-01-16T03:00:00+08:00-15℃\n",
      "高雄市鹽埕區2021-01-16T06:00:00+08:00-15℃\n",
      "高雄市鹽埕區2021-01-16T09:00:00+08:00-16℃\n",
      "高雄市鹽埕區2021-01-16T12:00:00+08:00-20℃\n",
      "高雄市鹽埕區2021-01-16T15:00:00+08:00-21℃\n"
     ]
    }
   ],
   "source": [
    "# 3. 請取出第一個地區所記錄的每一個時間點跟溫度\n",
    "\n",
    "'''\n",
    "Your Code\n",
    "'''\n",
    "\n",
    "for i in range(len(DataTime)):\n",
    "    print(\"高雄市鹽埕區%s-%s℃\" %(str(DataTime[i]),str(Temps[i])))"
   ]
  }
 ],
 "metadata": {
  "kernelspec": {
   "display_name": "Python 3",
   "language": "python",
   "name": "python3"
  },
  "language_info": {
   "codemirror_mode": {
    "name": "ipython",
    "version": 3
   },
   "file_extension": ".py",
   "mimetype": "text/x-python",
   "name": "python",
   "nbconvert_exporter": "python",
   "pygments_lexer": "ipython3",
   "version": "3.8.5"
  }
 },
 "nbformat": 4,
 "nbformat_minor": 2
}
