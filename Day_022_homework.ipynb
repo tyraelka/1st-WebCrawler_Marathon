{
 "cells": [
  {
   "cell_type": "markdown",
   "metadata": {},
   "source": [
    "# 動態網頁爬蟲 - 使用 Selenium\n",
    "\n",
    "* 了解 Selenium 用於動態網頁爬蟲的原理\n",
    "* 能夠使用 Selenium 撰寫動態網頁爬蟲"
   ]
  },
  {
   "cell_type": "markdown",
   "metadata": {},
   "source": [
    "## 作業目標\n",
    "\n",
    "* 1. 根據範例使用 selenuim 取出 Hahow 網站中所有課程的資料，並用一個適合的資料結構儲存（Hint: 將所有資料存在一個變數當中取出）\n",
    "* 2. 剛剛的做法只能取出第一頁，試著取出所有頁面的資料。\n",
    "\n"
   ]
  },
  {
   "cell_type": "markdown",
   "metadata": {},
   "source": [
    "### 1. 根據範例使用 selenuim 取出 Hahow 網站中所有課程的資料，並用一個適合的資料結構儲存（Hint: 將所有資料存在一個變數當中取出）"
   ]
  },
  {
   "cell_type": "code",
   "execution_count": 1,
   "metadata": {},
   "outputs": [],
   "source": [
    "from selenium import webdriver\n",
    "from selenium.webdriver.support.ui import Select\n",
    "from bs4 import BeautifulSoup\n",
    "\n",
    "browser = webdriver.Chrome(executable_path='./chromedriver.exe')\n",
    "browser.get(\"https://hahow.in/courses\")"
   ]
  },
  {
   "cell_type": "code",
   "execution_count": 2,
   "metadata": {},
   "outputs": [],
   "source": [
    "# 取得資料（等瀏覽器資料出現後才執行）\n",
    "html_source = browser.page_source\n",
    "html_source\n",
    "\n",
    "# 取得資料\n",
    "html_source = browser.page_source\n",
    "soup = BeautifulSoup(html_source, 'html.parser')\n"
   ]
  },
  {
   "cell_type": "code",
   "execution_count": 4,
   "metadata": {},
   "outputs": [
    {
     "name": "stdout",
     "output_type": "stream",
     "text": [
      "['職場英文大補帖｜從社交心法到溝通金句', 'Java 工程師必備！Spring Boot 零基礎入門', '輕鬆打造超華麗報表:無痛入門 Data Studio', '紙上御花園－初階水墨花卉探幽', '用戶x商業x數據 | UX‧三刀流產品體驗設計', '自學英語口說：提升英文流暢度的5大步驟', '拍一次就搞定！FB IG YT 通用的行銷影片', '說說立體刺繡花葉動物，交織裡的平衡韻律', '邏輯表達力-周震宇的口語邏輯優化課', '五星級法式經典甜點在家做', '掌握鉤針編織邏輯：五種針法自造生活小物', 'Python 推薦系統入門: 打造令人上癮的產品', '堯中人像攝影創作：掌握光影發掘人像質感', '日新麥克筆魔法：十支筆創造新視界－慕夏篇', '志祺的架構性思考：從資訊整理到觀點表達', ' PS 核心技法 | 調色技法完全講解篇', '҉唐鳳҉數位溝通社：就這樣把你增幅', '四叉貓網美談資社：美少女反串溝通愛心光波', '楊大正台語詞創社：咱就大力來寫著歌', '大支嘻哈研究社：饒舌饒出台灣味', '賴品妤 Cosplay 社：ㄘ我的二次元替身攻擊', '月月鳥昆蟲研究社：跟鄭運鵬變身甲蟲王', '單人也可佈光：有趣的L角佈燈術', '人氣喫茶店 KADOYA 主廚帶你做日式洋菓子']\n"
     ]
    }
   ],
   "source": [
    "courses = []\n",
    "    \n",
    "'''\n",
    "Your Code\n",
    "'''\n",
    "for d in soup.find_all(\"h4\", attrs={\"class\": \"title\"}):\n",
    "    courses.append(d.text)\n",
    "    \n",
    "print(courses)"
   ]
  },
  {
   "cell_type": "code",
   "execution_count": 5,
   "metadata": {},
   "outputs": [],
   "source": [
    "browser.close()"
   ]
  },
  {
   "cell_type": "markdown",
   "metadata": {},
   "source": [
    "### 2. 剛剛的做法只能取出第一頁，試著取出所有頁面的資料。"
   ]
  },
  {
   "cell_type": "code",
   "execution_count": 6,
   "metadata": {},
   "outputs": [],
   "source": [
    "from selenium import webdriver\n",
    "from selenium.webdriver.support.ui import Select\n",
    "from bs4 import BeautifulSoup\n",
    "\n",
    "browser = webdriver.Chrome(executable_path='chromedriver')\n",
    "browser.get(\"https://hahow.in/courses\")"
   ]
  },
  {
   "cell_type": "code",
   "execution_count": 7,
   "metadata": {},
   "outputs": [],
   "source": [
    "# 取得資料（等瀏覽器資料出現後才執行）\n",
    "html_source = browser.page_source\n",
    "soup = BeautifulSoup(html_source, 'html.parser')\n"
   ]
  },
  {
   "cell_type": "code",
   "execution_count": 14,
   "metadata": {},
   "outputs": [
    {
     "name": "stdout",
     "output_type": "stream",
     "text": [
      "25\n"
     ]
    }
   ],
   "source": [
    "# 1. 先取出全部有幾頁\n",
    "    \n",
    "'''\n",
    "Your Code\n",
    "'''\n",
    "import re\n",
    "pages = []\n",
    "\n",
    "for page in soup.find_all(\"li\", attrs={\"title\": re.compile(\"\\d\")}):\n",
    "    try:\n",
    "        page = int(page.text)\n",
    "    except:\n",
    "        continue\n",
    "    pages.append(page)\n",
    "    \n",
    "print(max(pages))"
   ]
  },
  {
   "cell_type": "code",
   "execution_count": 15,
   "metadata": {},
   "outputs": [],
   "source": [
    "# 2. 每頁都取出資料放入 courses\n",
    "\n",
    "courses = []\n",
    "\n",
    "url = \"https://hahow.in/courses?page=\"\n",
    "\n",
    "browser = webdriver.Chrome(executable_path=\"./chromedriver.exe\")\n",
    "\n",
    "for i in range(25):\n",
    "    browser.get(url + str(i))\n",
    "    html_source = browser.page_source\n",
    "    soup = BeautifulSoup(html_source, \"html.parser\")\n",
    "    for d in soup.find_all(\"h4\", attrs={\"class\": \"title\"}):\n",
    "        courses.append(d.text)    \n",
    "browser.close()"
   ]
  },
  {
   "cell_type": "code",
   "execution_count": 16,
   "metadata": {},
   "outputs": [
    {
     "name": "stdout",
     "output_type": "stream",
     "text": [
      "['職場英文大補帖｜從社交心法到溝通金句', 'Java 工程師必備！Spring Boot 零基礎入門', '輕鬆打造超華麗報表:無痛入門 Data Studio', '紙上御花園－初階水墨花卉探幽', '用戶x商業x數據 | UX‧三刀流產品體驗設計', '自學英語口說：提升英文流暢度的5大步驟', '拍一次就搞定！FB IG YT 通用的行銷影片', '說說立體刺繡花葉動物，交織裡的平衡韻律', '邏輯表達力-周震宇的口語邏輯優化課', '五星級法式經典甜點在家做', '掌握鉤針編織邏輯：五種針法自造生活小物', 'Python 推薦系統入門: 打造令人上癮的產品', '堯中人像攝影創作：掌握光影發掘人像質感', '日新麥克筆魔法：十支筆創造新視界－慕夏篇', '志祺的架構性思考：從資訊整理到觀點表達', ' PS 核心技法 | 調色技法完全講解篇', '҉唐鳳҉數位溝通社：就這樣把你增幅', '四叉貓網美談資社：美少女反串溝通愛心光波', '楊大正台語詞創社：咱就大力來寫著歌', '大支嘻哈研究社：饒舌饒出台灣味', '賴品妤 Cosplay 社：ㄘ我的二次元替身攻擊', '月月鳥昆蟲研究社：跟鄭運鵬變身甲蟲王', '單人也可佈光：有趣的L角佈燈術', '人氣喫茶店 KADOYA 主廚帶你做日式洋菓子', '跟 YouTuber 莫彩曦學美國道地的說話習慣', '用 Python 理財：打造加密貨幣實戰策略', '總經投資必學，看懂美中歐三大央行政策！', '第一堂德語課：開啟德國留學之路', '行銷提案實戰：讓你的想法被一次買單', '每天十分鐘跳出自信與魅力：超好學街舞課！', 'Podcast 全攻略：打造你的品牌和影響力', '凱蒂瑜珈：夢幻動作從頭學，開啟練習新里程', '六大實拍範例，商攝打光再精進', '24 單元入門投資科學 一次搞懂投資必備知識', '養個股兒子︱要存就存冷門股', 'Unity+Fungus 免程式製作你的文字冒險遊戲', '作品集必備！Mockup 模擬圖合成術', '小錢投資大公司，受用一生美股投資觀念', '冠軍 DJ DinPei－帶你從零開始成為專業 DJ', '女性專屬！筋肉媽媽的高效增肌減脂課', '寫一手西洋書法美字：銅版體習字課', '服飾批貨課：獨門批購心法讓你低庫存高利潤', '一變應萬變：RWD 響應式網頁設計', '精通 Bootstrap 4 - 開發超強不解釋', '使用 HTML、CSS 開發一個網站', '使用 jQuery 打造互動性網頁動畫效果', '職場必備的批判思考力：沉思力篇', '職場人必學的商業分析術', '法式甜點在地魂製作攻略－日日在家菓實日', '林長揚職場簡報術：一次搞定所有工作簡報！', '概念式時尚插畫｜我的小小時裝週', '羅寶鴻的安定教養課：12 個對話練習與心法', '七日減醣計畫「一週持續執行！」邊吃邊享瘦', '閱讀攝影的眼神 - 啟動你的影像理解力', '手機 App 開發入門：App Inventor 2 實作', '全民防疫通識課：陳建仁副總統來開講', '省錢攝影術：零基礎拍好美食＆商品！', 'Linux 我來教: CentOS/ RHEL 8 新世代雲端', '口譯員浩爾的打獵式聆聽＆資訊處理術', '資料變決策！從零上手 Tableau 大數據視覺化', '互動藝術程式創作入門 (Creative Coding)', '人生管理學：把自己當成公司經營', '薩克斯風 - 13 堂基本功吹出專輯的美聲', '用實際案例學設計-美編的 InDesign 排版課', '動盪時代的資產配置：王伯達人生財務規劃學', '手繪轉電繪，我選 Procreate！', '氣球達人不藏私！宋俊霖的塞球雕塑造型課', '0-2 歲寶寶父母必修課 - 專業治療師開課囉！', '一支手機拍完行銷影片，產品賣更好！', 'Keynote即戰力：簡報製作到上台演講都搞定', '輕鬆學好道地美式發音！', '資料科學：Azure 機器學習工作室入門', '職場必備的批判思考力：論戰力篇', '散戶必看！台股擂台王的波段操作心法', '把捉日常光影細節-畫出充滿靈魂的人像插畫', '生活中的哲學！給新手的手沖咖啡入門課', '從興趣到接案：建立專業插畫創作流程', '生活要清爽：讓空間煥然一新的整理收納課', '利息養成現金流：債券入門投資術', '小資族保險的第一堂入門課', '創作你的療癒香草茶！百種風味搭配邏輯', '托福口說拿分 4 原則｜發音、表達一把罩', 'LOGO 必修課：發展品牌識別的第一步', 'Excel VBA 金融資料抓取 | 打造股票研究系統', '開啟你的 AI 技能 —— 無痛入門 NLP', '日本求職全攻略，開啟你海外求職第一步', 'AI 行銷學：用 Python 機器學習創造商業新價值', '戶外攝影實戰：用鏡頭看見台灣', '從生活小物到街景，用鋼筆速寫在日子裡旅行', 'illustrator 入門：從形狀到美麗的向量插畫', '小資族 ETF 狠會賺投資法', '不用動腦的攝影課-七堂課拍出有質感的照片', '英雄之旅：自己的故事，別當配角', 'AutoLisp - 紮實入門與實例應用', 'GA 從零上手！數位時代必學的數據行銷秘笈', '真空烹調在家做，科學方法學舒肥', '行銷必上文案課：受眾溝通與表達', '時間管理心法：升級人生作業系統', '工作疲累的救星：放鬆筋膜不求人！', 'Python 入門特訓 - 基礎實作到證照攻略', '百萬 YouTuber 阿滴－攻心剪輯術！', '火頭工做麵包：用科學方法學做健康麵包', '存零股學理財 - 累積你人生的第一張股王', '啟動你的工匠魂：打造第一個皮件作品！', 'Kotlin Android 高效開發：全新語言雲端世代', '氣球達人宋俊霖 教你氣球編織玩造型！', '買房必知！告別無殼蝸牛的銀行貸財術！', '紙上咖啡店開張！雪莉的午茶繪畫課', '出遊拍照不 NG - 應用 PS 修出美麗天空', 'amps－初階人物繪製基礎概念', '看穿公司背後隠藏的秘密   一切從財報開始', '好想法好好說 - 潘月琪的12堂質感說話課', '用 Python 打造自己的股票小秘書', '訪談溝通術：交流、說服與談判的必勝訣竅', '新多益閱讀：英語教父助你一舉突破企業門檻', '小資生活投資學，美股研究趣', 'Logic Pro X 從零開始', '職場必備的 Excel 關鍵技法 - 入門', '為個人品牌設計的 WiX 網站架設實作', '設計色彩學：建立自己的色彩品味資料庫', 'R語言和商業分析-洞悉商業世界中的資料科學', '經典駭客攻擊教程：給每個人的網站安全入門', '掌握英文8原則-自學英文的最短路徑', '台科 EMBA 年年爆滿的一門 Word 課（B+C 系列）', 'Android APP高效入門 強靭基礎刻不容緩', '一步一步學編劇：搞笑催淚技巧大揭密', '營養師萊恩：狗狗鮮食簡單做', '畫圖無死角，360 度全景透視法', 'ZBrush 101 - 從零開始學 ZBrush', 'Final Cut Pro X 入門 - 0到1帶你學會剪輯', '全方位學 WordPress - 從架站到整合行銷', '斜槓世代必學｜自拍自剪影片養成計畫', '印花樂－自製手感印花好禮', '三小時教你怎麼講道德不輸人', '設計師接案學－業界求生必備守則', '空間大數據分析：GIS入門', 'Facebook 廣告投放實戰', '從 iPad 入門 - 音樂製作 & 影像剪輯', '【影音行銷】將名單變成訂單的最佳解答', '獵頭顧問 S 姐帶你健檢人生職涯', '在家也能成為氣球達人！', '平面設計 - 從理論到實務運用及對談 (初階)', '英語教父教你輕鬆戰勝新多益聽力', '加密貨幣交易戰鬥營 - 一條龍翻身攻略！', 'MATLAB 音訊處理入門 - 專屬語音助理', '畫圖不帶尺，輕鬆學會透視畫建築！', '解碼程式思維－物件導向的靈魂', '追劇學韓文—韓語初級會話課程', '網路行銷全方位入門實戰（上集）', '從0開始：從書籍封面學平面設計！', '旅行插畫，培養不可或缺的創造力', '吉他編曲超訓練：豐富精緻的彈奏設計', '設計 DIY - 網拍家的 PS 設計實戰', '浪漫探戈 - 從基本舞步到即興組合', '漫遊程海 | Python 入門到製作遊戲演算法', '從零開始學文案 — 育名的文案小教室', '進入比特幣世界 - 比 99% 的人更懂它！', '商用日語：一次學好各種敬語及書信禮儀', '履歷面試大剖析－網路科技外商求職技巧', '人人都是賈伯斯,你也可以開發自己的產品', 'POP-UP！立體繪本手工書 - 娃娃屋篇', '拯救你的樂理 - 現代音樂和聲學', 'Duga 的奇幻插畫課 - 幻想角色篇', '動畫互動網頁特效入門（JS/CANVAS）', '不必下蠱的人心攻略術 — 小說實戰技術', '跟著插畫家十堂課輕鬆學塔羅', '如何練習動漫速寫 - Anime Sketches', '從入門到業界實戰 - UI / UX 前端網頁設計', '挖出你的節奏細胞!爵士鼓教學-基本節奏篇', '一個小時！DIY你的作品集網站', '迎向南美－從零開始學西班牙文', '前進夢想工作：寫出必勝履歷！', '用歌唱技巧唱出屬於自己的迪士尼魂-初階', '初學者也能學會名片設計', '邊走邊畫，帶著手帳旅行去！', '常見日文發音錯誤及發音指南', '比ㄅㄆㄇ簡單的韓語發音', '前往定格動畫的奇幻旅程Vol.1｜玩具篇', '十堂課輕鬆學會木吉他自彈自唱', 'JavaScript 程式設計新手村', 'AutoCAD 電腦繪圖2D基礎篇－紮實入門', '手作印章：篆刻基礎技法', '莉朵花藝 - 體驗不凋花（材料包已售完）', 'Illustrator 平面圖像設計', 'Processing - 讓程式碼說設計語言', '復古風味色鉛筆食品速寫', '克服阻礙，快速說出流暢英文', 'Photoshop 最重要的基本課', '2016 未來大人物－全系列課程', 'iOS 入門 － 從介面設計到開發', '小編必學，百萬觀眾動畫製作術－動畫星球', 'MG特效 -【3D陣列圖形與分子運用C4D+AE】', '怪獸工場 - 頭部構成與造型設計篇', '怪獸工場 - 人體結構篇', '每天戀一點，戀愛心理學', '音樂創作原來這麼簡單！', '手繪溫度．甜點丼飯插畫篇', '一堂把你變高跟鞋專家的課', '刺繡 - 簡單學會多種針法做別針', 'AE/MG || 動畫特效 Vol.1', '一張速寫，一個生活故事', '設計風，手寫英文藝術字（基礎篇）', 'CRYENGINE 獨立遊戲開發 - 場景建構篇', '數位技法 - 配色質感輕鬆搞定！', '角色設計1_人體骨架結構', '他抓得住我！自由筆觸繪出人像靈魂', '怪獸工場 - 色彩光學篇', '怪獸工場 - 灰階觀念篇', '實作「冬季甜點首部曲」DESSERT - WILLIAMS SONOMA', '打出靈魂的節奏 - Cajon 木箱鼓 系列入門 1', '旅行中手繪建築插畫，你也可以！', '超簡單讓你學會 Beatbox', '用 Illustrator 畫出你的原創角色', '臉部素描－輕鬆打好人物畫基礎', '一學就會的澎澎甜甜圈精緻吊飾']\n"
     ]
    }
   ],
   "source": [
    "# 3. done!\n",
    "\n",
    "print(courses)"
   ]
  },
  {
   "cell_type": "code",
   "execution_count": null,
   "metadata": {},
   "outputs": [],
   "source": []
  }
 ],
 "metadata": {
  "kernelspec": {
   "display_name": "Python 3",
   "language": "python",
   "name": "python3"
  },
  "language_info": {
   "codemirror_mode": {
    "name": "ipython",
    "version": 3
   },
   "file_extension": ".py",
   "mimetype": "text/x-python",
   "name": "python",
   "nbconvert_exporter": "python",
   "pygments_lexer": "ipython3",
   "version": "3.8.5"
  }
 },
 "nbformat": 4,
 "nbformat_minor": 2
}
