{
 "cells": [
  {
   "cell_type": "markdown",
   "metadata": {},
   "source": [
    "# 靜態網頁的資料爬蟲策略\n",
    "\n",
    "\n",
    "* 了解靜態網頁的資料爬蟲策略\n",
    "* 認識適用於靜態網頁爬蟲的相關套件工具：Request\n",
    "* 認識適用於靜態網頁爬蟲的相關套件工具：BeatifulSoup"
   ]
  },
  {
   "cell_type": "markdown",
   "metadata": {},
   "source": [
    "## 作業目標\n",
    "\n",
    "利用 Request + BeatifulSoup 爬取下列兩個網站內容並解析：\n",
    "\n",
    "1. Dcared 網址： https://www.dcard.tw/f\n",
    "2. 知乎： https://www.zhihu.com/explore\n",
    "\n",
    "並且回答下面問題：\n",
    "\n",
    "1. Request 取回之後該怎麼取出資料，資料型態是什麼？\n",
    "2. 為什麼要使用 BeatifulSoup 處理？處理後的型態是什麼？\n",
    "3. 觀察一下知乎回來的資料好像有點怪怪的，該怎麼解決？"
   ]
  },
  {
   "cell_type": "markdown",
   "metadata": {},
   "source": [
    "### 1. Dcard 網址： https://www.dcard.tw/f"
   ]
  },
  {
   "cell_type": "code",
   "execution_count": 1,
   "metadata": {},
   "outputs": [],
   "source": [
    "import requests\n",
    "from bs4 import BeautifulSoup"
   ]
  },
  {
   "cell_type": "code",
   "execution_count": 2,
   "metadata": {},
   "outputs": [
    {
     "name": "stdout",
     "output_type": "stream",
     "text": [
      "<!DOCTYPE html>\n",
      "<!--[if lt IE 7]> <html class=\"no-js ie6 oldie\" lang=\"en-US\"> <![endif]-->\n",
      "<!--[if IE 7]>    <html class=\"no-js ie7 oldie\" lang=\"en-US\"> <![endif]-->\n",
      "<!--[if IE 8]>    <html class=\"no-js ie8 oldie\" lang=\"en-US\"> <![endif]-->\n",
      "<!--[if gt IE 8]><!--> <html class=\"no-js\" lang=\"en-US\"> <!--<![endif]-->\n",
      "<head>\n",
      "\n",
      "<title>Attention Required! | Cloudflare</title>\n",
      "\n",
      "<meta name=\"captcha-bypass\" id=\"captcha-bypass\" />\n",
      "<meta charset=\"UTF-8\" />\n",
      "<meta http-equiv=\"Content-Type\" content=\"text/html; charset=UTF-8\" />\n",
      "<meta http-equiv=\"X-UA-Compatible\" content=\"IE=Edge,chrome=1\" />\n",
      "<meta name=\"robots\" content=\"noindex, nofollow\" />\n",
      "<meta name=\"viewport\" content=\"width=device-width,initial-scale=1\" />\n",
      "<link rel=\"stylesheet\" id=\"cf_styles-css\" href=\"/cdn-cgi/styles/cf.errors.css\" type=\"text/css\" media=\"screen,projection\" />\n",
      "<!--[if lt IE 9]><link rel=\"stylesheet\" id='cf_styles-ie-css' href=\"/cdn-cgi/styles/cf.errors.ie.css\" type=\"text/css\" media=\"screen,projection\" /><![endif]-->\n",
      "<style type=\"text/css\">body{margin:0;padding:0}</style>\n",
      "\n",
      "\n",
      "<!--[if gte IE 10]><!-->\n",
      "<script>\n",
      "  if (!navigator.cookieEnabled) {\n",
      "    window.addEventListener('DOMContentLoaded', function () {\n",
      "      var cookieEl = document.getElementById('cookie-alert');\n",
      "      cookieEl.style.display = 'block';\n",
      "    })\n",
      "  }\n",
      "</script>\n",
      "<!--<![endif]-->\n",
      "\n",
      "\n",
      "  <script type=\"text/javascript\">\n",
      "    //<![CDATA[\n",
      "    (function(){\n",
      "      window._cf_chl_opt={\n",
      "        cvId: \"1\",\n",
      "        cType: \"interactive\",\n",
      "        cNounce: \"35754\",\n",
      "        cRay: \"6120d8685a7c45ca\",\n",
      "        cHash: \"de503fe8afe9b3e\",\n",
      "        cFPWv: \"b\",\n",
      "        cRq: {\n",
      "          ru: \"aHR0cHM6Ly93d3cuZGNhcmQudHcvZg==\",\n",
      "          ra: \"cHl0aG9uLXJlcXVlc3RzLzIuMjQuMA==\",\n",
      "          rm: \"R0VU\",\n",
      "          d: \"dONxRHBpLO3L2swXtr9xjNVoPjf4KASvBN/YL8UPutpSmvjh1yqqAOBYSnJQSeZaCQFolzzvX9/bQBDOLNVSIwDzeehb/rUHRlwl6L+HYLOJ9uJPohRXhXEoVfQkLNlQyjbgOd/L98pjnsQeBfq9SSCCjy+zgWuamoQLEcSKQMmxOniPScTeRSEw69s0rkF6kkCxBSlux8N61QIQLPxQTS8n01hHAdubJQNCcg/YiUOHSpqqN05CR4VXEPwsESFQW/g5xrYY9/18tW7sGE0o67lypgkHQROo8T3tHIw26h11yLorO/l56qZg03IUf27fEU5f3FcYunPXP9SmG+ElDbPWcCYeFlfano4cEhjOt2yh2cNY89puIPflU0s7klP1rh8o2mNRgfekIEo7etG4M9HGfDXfDzUJzCIQuP8wQvguUHydVIQr87ZSIc/P8Lv4cczKwrh/DKE1lIt7zcF7ncMmJim3W7lm4OvT7IbXI499SYYUi4udqltRUEebm29FG7f0gHe4+saxCZ4j1BcqkM8Iflq/uKQBxJ/uX79iCmcPC33ZSkKMjmXdJJcPnW+XFWQdKUUut6ueEMCD+w7LiTNnSsme2ENKX7lnOvYaE1wvHI6rZf6JHmsBdwnXC7VUUkX6S4XwEORiXY6u6/FeGbEszl3VX3m1MFOBPzo3muF0ZMN5OknW5AbagRG5YapnoH4LxWL6PN+Srp+7OFmXDBOwwogFC3/9h7WP0qU/1Q313GDH9FOcyQiD5CDyDUibIApdDYQMrEe+pDcNs2rgeg==\",\n",
      "          t: \"MTYxMDcyNjgwMC43MDYwMDA=\",\n",
      "          m: \"pUEbYCTyGGKoNKdMq1EqPpAVaJ04WYI1mtoyRIXPxWY=\",\n",
      "          i1: \"43Hm6S8JGSqyPHt1r1O4Hw==\",\n",
      "          i2: \"hiaRnJAAfcccqL9fOX1tXw==\",\n",
      "          uh: \"6AZv5/FBI8bCgQ115dPTZ5RPLfsmzGOqXp7x0al4Jbc=\",\n",
      "          hh: \"zRzOAigP6xcxnKf5snryJLVJgndZSARNtnIbgQqzl/Q=\",\n",
      "        }\n",
      "      }\n",
      "      window._cf_chl_enter = function(){window._cf_chl_opt.p=1};\n",
      "      var a = function() {try{return !!window.addEventListener} catch(e) {return !1} },\n"
     ]
    }
   ],
   "source": [
    "url = 'https://www.dcard.tw/f'\n",
    "\n",
    "'''\n",
    "Your Code Here\n",
    "'''\n",
    "r = requests.get(url)\n",
    "r.encoding = 'utf-8'\n",
    "print(r.text[0:3000])"
   ]
  },
  {
   "cell_type": "code",
   "execution_count": 6,
   "metadata": {},
   "outputs": [
    {
     "name": "stdout",
     "output_type": "stream",
     "text": [
      "Request 取回之後該怎麼取出資料，資料型態是什麼？ =>\n",
      "Requests使用get方法取出資料，資料型態為string\n",
      "<class 'str'>\n"
     ]
    }
   ],
   "source": [
    "print('Request 取回之後該怎麼取出資料，資料型態是什麼？ =>')\n",
    "print(\"Requests使用get方法取出資料，資料型態為string\")\n",
    "\n",
    "'''\n",
    "Your Code Here\n",
    "'''\n",
    "print(type(r.text))"
   ]
  },
  {
   "cell_type": "code",
   "execution_count": 7,
   "metadata": {},
   "outputs": [
    {
     "name": "stdout",
     "output_type": "stream",
     "text": [
      "為什麼要使用 BeatifulSoup 處理？處理後的型態是什麼？ => \n",
      "Requests取得結果為html資料，以BeautifulSoup解析html資料，處理後得bs4物件\n",
      "<class 'bs4.BeautifulSoup'>\n"
     ]
    }
   ],
   "source": [
    "print('為什麼要使用 BeatifulSoup 處理？處理後的型態是什麼？ => ')\n",
    "print(\"Requests取得結果為html資料，以BeautifulSoup解析html資料，處理後得bs4物件\")\n",
    "\n",
    "'''\n",
    "Your Code Here\n",
    "'''\n",
    "soup = BeautifulSoup(r.text, \"html5lib\")\n",
    "print(type(soup))"
   ]
  },
  {
   "cell_type": "markdown",
   "metadata": {},
   "source": [
    "### 2. 知乎： https://www.zhihu.com/explore"
   ]
  },
  {
   "cell_type": "code",
   "execution_count": 8,
   "metadata": {},
   "outputs": [
    {
     "name": "stdout",
     "output_type": "stream",
     "text": [
      "<html>\r\n",
      "<head><title>403 Forbidden</title></head>\r\n",
      "<body bgcolor=\"white\">\r\n",
      "<center><h1>403 Forbidden</h1></center>\r\n",
      "<hr><center>openresty</center>\r\n",
      "</body>\r\n",
      "</html>\r\n",
      "\n"
     ]
    }
   ],
   "source": [
    "url = 'https://www.zhihu.com/explore'\n",
    "r = requests.get(url)\n",
    "r.encoding = 'utf-8'\n",
    "\n",
    "print(r.text[0:600])"
   ]
  },
  {
   "cell_type": "markdown",
   "metadata": {},
   "source": [
    "### 3. 觀察一下知乎回來的資料好像有點怪怪的，該怎麼解決？"
   ]
  },
  {
   "cell_type": "code",
   "execution_count": 10,
   "metadata": {
    "scrolled": true
   },
   "outputs": [
    {
     "name": "stdout",
     "output_type": "stream",
     "text": [
      "<!doctype html>\n",
      "<html lang=\"zh\" data-hairline=\"true\" data-theme=\"light\"><head><meta charSet=\"utf-8\"/><title data-react-helmet=\"true\">发现 - 知乎</title><meta name=\"viewport\" content=\"width=device-width,initial-scale=1,maximum-scale=1\"/><meta name=\"renderer\" content=\"webkit\"/><meta name=\"force-rendering\" content=\"webkit\"/><meta http-equiv=\"X-UA-Compatible\" content=\"IE=edge,chrome=1\"/><meta name=\"google-site-verification\" content=\"FTeR0c8arOPKh8c5DYh_9uu98_zJbaWw53J-Sch9MTg\"/><meta name=\"description\" property=\"og:description\" content=\"知乎，中文互联网最大的问答社区和创作者聚集的原创内容平台，于 2011 年 1 月正式上线，以「让人们更好地分享知识、经验和见解，\n"
     ]
    }
   ],
   "source": [
    "import requests\n",
    "url = 'https://www.zhihu.com/explore'\n",
    "\n",
    "'''\n",
    "Your Code Here\n",
    "'''\n",
    "headers = {\"user-agent\": \"my-app/0.0.1\"}\n",
    "r = requests.get(url, headers=headers)\n",
    "\n",
    "r.encoding = 'utf-8'\n",
    "print(r.text[0:600])"
   ]
  },
  {
   "cell_type": "markdown",
   "metadata": {},
   "source": [
    "Ans:\n",
    "知乎伺服器端會偵測用戶端request有無headers資訊，若無則拒絕訪問，故需加入headers資訊才可解決"
   ]
  },
  {
   "cell_type": "code",
   "execution_count": null,
   "metadata": {},
   "outputs": [],
   "source": []
  }
 ],
 "metadata": {
  "kernelspec": {
   "display_name": "Python 3",
   "language": "python",
   "name": "python3"
  },
  "language_info": {
   "codemirror_mode": {
    "name": "ipython",
    "version": 3
   },
   "file_extension": ".py",
   "mimetype": "text/x-python",
   "name": "python",
   "nbconvert_exporter": "python",
   "pygments_lexer": "ipython3",
   "version": "3.8.5"
  }
 },
 "nbformat": 4,
 "nbformat_minor": 2
}
